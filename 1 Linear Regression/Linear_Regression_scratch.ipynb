{
 "cells": [
  {
   "cell_type": "code",
   "execution_count": 101,
   "id": "483f6652-33eb-4b7d-9626-73523b1e24f6",
   "metadata": {},
   "outputs": [],
   "source": [
    "import numpy as np\n",
    "import pandas as pd\n",
    "import matplotlib.pyplot as plt"
   ]
  },
  {
   "cell_type": "markdown",
   "id": "77221207-cc8a-47a2-8167-852514294b81",
   "metadata": {},
   "source": [
    "### Data"
   ]
  },
  {
   "cell_type": "code",
   "execution_count": 84,
   "id": "35054c6f-db27-485c-8b2a-0dd1d4dace65",
   "metadata": {},
   "outputs": [],
   "source": [
    "week_data = [1,2,3,4, 5]\n",
    "sales_data = [2,4, 5, 4, 5]"
   ]
  },
  {
   "cell_type": "code",
   "execution_count": 85,
   "id": "2504ad85-034b-40e0-9a13-09cdd6721e06",
   "metadata": {},
   "outputs": [
    {
     "data": {
      "text/html": [
       "<div>\n",
       "<style scoped>\n",
       "    .dataframe tbody tr th:only-of-type {\n",
       "        vertical-align: middle;\n",
       "    }\n",
       "\n",
       "    .dataframe tbody tr th {\n",
       "        vertical-align: top;\n",
       "    }\n",
       "\n",
       "    .dataframe thead th {\n",
       "        text-align: right;\n",
       "    }\n",
       "</style>\n",
       "<table border=\"1\" class=\"dataframe\">\n",
       "  <thead>\n",
       "    <tr style=\"text-align: right;\">\n",
       "      <th></th>\n",
       "      <th>Weeks</th>\n",
       "      <th>Sales</th>\n",
       "    </tr>\n",
       "  </thead>\n",
       "  <tbody>\n",
       "    <tr>\n",
       "      <th>0</th>\n",
       "      <td>1</td>\n",
       "      <td>2</td>\n",
       "    </tr>\n",
       "    <tr>\n",
       "      <th>1</th>\n",
       "      <td>2</td>\n",
       "      <td>4</td>\n",
       "    </tr>\n",
       "    <tr>\n",
       "      <th>2</th>\n",
       "      <td>3</td>\n",
       "      <td>5</td>\n",
       "    </tr>\n",
       "    <tr>\n",
       "      <th>3</th>\n",
       "      <td>4</td>\n",
       "      <td>4</td>\n",
       "    </tr>\n",
       "    <tr>\n",
       "      <th>4</th>\n",
       "      <td>5</td>\n",
       "      <td>5</td>\n",
       "    </tr>\n",
       "  </tbody>\n",
       "</table>\n",
       "</div>"
      ],
      "text/plain": [
       "   Weeks  Sales\n",
       "0      1      2\n",
       "1      2      4\n",
       "2      3      5\n",
       "3      4      4\n",
       "4      5      5"
      ]
     },
     "execution_count": 85,
     "metadata": {},
     "output_type": "execute_result"
    }
   ],
   "source": [
    "df = pd.DataFrame({\"Weeks\":week_data, \"Sales\":sales_data})\n",
    "df"
   ]
  },
  {
   "cell_type": "markdown",
   "id": "1ba93172-4061-4449-b583-5e7bd59d64e7",
   "metadata": {},
   "source": [
    "#### Values"
   ]
  },
  {
   "cell_type": "code",
   "execution_count": 86,
   "id": "4f0e7e6b-2c6d-40f6-b100-829886d09d6f",
   "metadata": {},
   "outputs": [],
   "source": [
    "# Vlaues of X (x-Axis : Features)\n",
    "X = df[\"Weeks\"].values\n",
    "# Values of Y (y-Axis : target)\n",
    "Y = df[\"Sales\"].values"
   ]
  },
  {
   "cell_type": "code",
   "execution_count": 87,
   "id": "42870248-3d86-4dc5-b37d-3c24250773e2",
   "metadata": {},
   "outputs": [
    {
     "data": {
      "text/plain": [
       "array([1, 2, 3, 4, 5])"
      ]
     },
     "execution_count": 87,
     "metadata": {},
     "output_type": "execute_result"
    }
   ],
   "source": [
    "X"
   ]
  },
  {
   "cell_type": "code",
   "execution_count": 88,
   "id": "9b198340-f933-42d6-b62f-d20e55cee2a2",
   "metadata": {},
   "outputs": [
    {
     "data": {
      "text/plain": [
       "array([2, 4, 5, 4, 5])"
      ]
     },
     "execution_count": 88,
     "metadata": {},
     "output_type": "execute_result"
    }
   ],
   "source": [
    "Y"
   ]
  },
  {
   "cell_type": "markdown",
   "id": "2f8fb8f0-f3c3-471f-b2b5-837fc4072f2d",
   "metadata": {},
   "source": [
    "### Training and Testing Data"
   ]
  },
  {
   "cell_type": "code",
   "execution_count": null,
   "id": "92a47f73-c654-4a51-9b56-3cc66224ce6f",
   "metadata": {},
   "outputs": [],
   "source": []
  },
  {
   "cell_type": "raw",
   "id": "9a3f77f7-b0b8-4abc-b201-90dc3422aa3a",
   "metadata": {},
   "source": []
  },
  {
   "cell_type": "markdown",
   "id": "c3105a82-fd4c-4fb0-9988-3fb8173642f6",
   "metadata": {},
   "source": [
    "Since it is a linear regression we need to find a point where our line can reside.\n",
    "\n",
    "$$\n",
    "\\sum_{i=1}^n x_i\n",
    "$$\n",
    "\n",
    "$$\n",
    "\\sum_{i=1}^n y_i\n",
    "$$\n",
    "\n",
    "point :\n",
    "($\\bar{x}$, $\\bar{y}$)\n",
    "\n",
    "Line Equation :\n",
    "$y = mx + c$\n",
    "\n",
    "\n",
    "we know :  \n",
    "    $m = (y₂ - y₁) / (x₂ - x₁)$\n",
    "\n",
    "for us    :      \n",
    "    $m =  \\frac{\\sum (x - \\bar{x})(y - \\bar{y})}{\\sum (x - \\bar{x})^2}$\n",
    "\n",
    "so for value of c     :     \n",
    "        $\\bar{y} = m\\bar{x} + c$\n",
    "\n",
    "$c = \\bar{y} - m\\bar{x}$"
   ]
  },
  {
   "cell_type": "code",
   "execution_count": 94,
   "id": "00626101-6195-42d1-a401-2a9a6e388a2d",
   "metadata": {},
   "outputs": [
    {
     "name": "stdout",
     "output_type": "stream",
     "text": [
      "mean x : 3.0\n",
      "mean y : 4.0\n",
      "m : 0.6\n",
      "c : 2.2\n"
     ]
    }
   ],
   "source": [
    "mean_x = np.mean(X)\n",
    "mean_y = np.mean(Y)\n",
    "\n",
    "print(f\"mean x : {mean_x}\")\n",
    "print(f\"mean y : {mean_y}\")\n",
    "\n",
    "numerator = 0\n",
    "denominator = 0\n",
    "\n",
    "for i in range(len(X)):\n",
    "    numerator +=  (X[i] - mean_x)*(Y[i] - mean_y)\n",
    "    denominator +=     (X[i] - mean_x)**2\n",
    "\n",
    "#slop m and c values\n",
    "m = numerator/denominator\n",
    "c = mean_y - m*mean_x\n",
    "\n",
    "print(f\"m : {m}\")\n",
    "print(f\"c : {c}\")"
   ]
  },
  {
   "cell_type": "code",
   "execution_count": 106,
   "id": "cbaddae7-f3e8-474d-8e08-fbae379a4027",
   "metadata": {},
   "outputs": [
    {
     "data": {
      "text/plain": [
       "<matplotlib.legend.Legend at 0x75e21ee48050>"
      ]
     },
     "execution_count": 106,
     "metadata": {},
     "output_type": "execute_result"
    },
    {
     "data": {
      "image/png": "[encoded data removed]",
      "text/plain": [
       "<Figure size 640x480 with 1 Axes>"
      ]
     },
     "metadata": {},
     "output_type": "display_data"
    }
   ],
   "source": [
    "# Graphical view of the above code \n",
    "\n",
    "max_x = np.max(X) + 1\n",
    "min_x = np.min(X) - 1\n",
    "\n",
    "x = np.linspace(max_x, min_x)\n",
    "y = m*x + c\n",
    "\n",
    "plt.plot(x, y, color='red', label='Regression Line', linestyle='--')\n",
    "plt.scatter(X, Y, color='blue',label='Data points')\n",
    "\n",
    "plt.xlabel(\"Week\")\n",
    "plt.ylabel(\"Sales\")\n",
    "plt.grid(True)\n",
    "plt.legend(loc='best')\n"
   ]
  },
  {
   "cell_type": "markdown",
   "id": "c7c5814e-0c86-4e9a-89a6-c060657b4782",
   "metadata": {},
   "source": [
    "### Residuals\n",
    "\n",
    "we cant say above line is the best line for this data point so to analyse this we use residuals\n",
    "\n",
    "Model Evaluation: Examining residuals helps assess how well the regression model fits the data.\n",
    "\n",
    "$Residual = actual_y_value − predicted_y_value$\n",
    "\n",
    "The coefficient of determination, or  $R^2$\n",
    "\n",
    "$R^2 = 1 - \\frac{sum squared regression (SSR)}{total sum of squares (SST)}$\n",
    "\n",
    "$R^2 = \\frac{\\sum (\\hat{y}-\\bar{y})^2}{\\sum (y - \\bar{y})^2}$   OR $R^2 = 1 - \\frac{\\sum (\\hat{y}- y )^2}{\\sum (y - \\bar{y})^2}$\n",
    " \n",
    "\n"
   ]
  },
  {
   "cell_type": "code",
   "execution_count": 118,
   "id": "a935349a-eb9f-40b2-9950-eb3e67b0cb8e",
   "metadata": {},
   "outputs": [
    {
     "name": "stdout",
     "output_type": "stream",
     "text": [
      "R2 : 0.6000000000000001\n"
     ]
    }
   ],
   "source": [
    "# R2\n",
    "\n",
    "SSR = 0\n",
    "SST = 0\n",
    "\n",
    "for i in range(len(X)):\n",
    "    y_pred = m*X[i] + c\n",
    "    SSR += (Y[i] - y_pred)**2\n",
    "    SST += (Y[i] - mean_y)**2\n",
    "\n",
    "R2 = 1 - SSR/SST\n",
    "print(f\"R2 : {R2}\")"
   ]
  },
  {
   "cell_type": "code",
   "execution_count": null,
   "id": "2fe20670-9e47-4cde-957c-4099ec5ffe7c",
   "metadata": {},
   "outputs": [],
   "source": []
  },
  {
   "cell_type": "markdown",
   "id": "e513e171-3e1a-4430-8a5c-47aa9ebcb7eb",
   "metadata": {},
   "source": [
    "### Validate\n",
    "\n",
    "lets check our above mode is how much accurate.\n",
    "compared to the actual mode"
   ]
  },
  {
   "cell_type": "code",
   "execution_count": 122,
   "id": "9b85a225-6acb-4f8a-8696-02477df59541",
   "metadata": {},
   "outputs": [],
   "source": [
    "from sklearn.linear_model import LinearRegression"
   ]
  },
  {
   "cell_type": "code",
   "execution_count": 128,
   "id": "2c9fb149-0c88-4add-bca3-23a50e19dd1b",
   "metadata": {},
   "outputs": [
    {
     "data": {
      "text/plain": [
       "array([[1],\n",
       "       [2],\n",
       "       [3],\n",
       "       [4],\n",
       "       [5]])"
      ]
     },
     "execution_count": 128,
     "metadata": {},
     "output_type": "execute_result"
    }
   ],
   "source": [
    "x = X.reshape(len(X),1) \n",
    "x"
   ]
  },
  {
   "cell_type": "code",
   "execution_count": 136,
   "id": "3299d4d3-2440-4fa6-8353-115a12317e79",
   "metadata": {},
   "outputs": [],
   "source": [
    "model = LinearRegression()\n",
    "model = model.fit(x,Y)"
   ]
  },
  {
   "cell_type": "code",
   "execution_count": 137,
   "id": "25489461-6110-49c4-883e-6bce2b19af1a",
   "metadata": {},
   "outputs": [
    {
     "data": {
      "text/plain": [
       "0.6000000000000001"
      ]
     },
     "execution_count": 137,
     "metadata": {},
     "output_type": "execute_result"
    }
   ],
   "source": [
    "R2 = model.score(x,Y)\n",
    "R2"
   ]
  },
  {
   "cell_type": "markdown",
   "id": "863ce531-2912-41fa-8cb5-b22c9c8c87ee",
   "metadata": {},
   "source": [
    "Answers are same as expected"
   ]
  },
  {
   "cell_type": "code",
   "execution_count": null,
   "id": "c9b66542-4aa8-4742-900e-8a682a7e6b2e",
   "metadata": {},
   "outputs": [],
   "source": []
  }
 ],
 "metadata": {
  "kernelspec": {
   "display_name": "Python 3 (ipykernel)",
   "language": "python",
   "name": "python3"
  },
  "language_info": {
   "codemirror_mode": {
    "name": "ipython",
    "version": 3
   },
   "file_extension": ".py",
   "mimetype": "text/x-python",
   "name": "python",
   "nbconvert_exporter": "python",
   "pygments_lexer": "ipython3",
   "version": "3.12.7"
  }
 },
 "nbformat": 4,
 "nbformat_minor": 5
}
